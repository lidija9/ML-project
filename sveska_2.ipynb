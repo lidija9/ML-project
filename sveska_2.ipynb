{
 "cells": [
  {
   "cell_type": "markdown",
   "id": "0fdb8420",
   "metadata": {},
   "source": [
    "# PREPOZNAVANJE SAOBRACAJNIH ZNAKOVA"
   ]
  },
  {
   "cell_type": "markdown",
   "id": "d1973d0a",
   "metadata": {},
   "source": [
    "Skup podataka o slikama sastoji se od vise od 30 000 slika razlicitih saobracajnih znakova. Prisutne su 43 razlicite klase  u skupu podataka za klasifikaciju slika."
   ]
  },
  {
   "cell_type": "markdown",
   "id": "982e4828",
   "metadata": {},
   "source": [
    "- **0** 'Ogranicenje brzine (20km/h)  **1** 'Ogranicenje brzine (30km/h)'\n",
    "- **2** 'Ogranicenje brzine (50km/h)' **3** 'Ogranicenje brzine (60km/h)'\n",
    "- **4** 'Ogranicenje brzine (70km/h)') **5** 'Ogranicenje brzine (80km/h)'\n",
    "- **6** 'Prestanak ogranicenja brzine (80km/h)' **7** 'Ogranicenje brzine (100km/h)'\n",
    "- **8** 'Ogranicenje brzine (120km/h)' **9** Zabrana preticanja za motorna vozila'\n",
    "- **10** 'Zabrana preticanja za teretna vozila'\n",
    "- **11** 'Spajanje sa sporednim putem pod pravim uglom sa desne strane' **12** 'Put sa prvenstvom prolaza'\n",
    "- **13** 'Ukrstanje sa putem sa prvenstvom prolaza' **14** 'Stop' **15** 'Zabrana saobracaja u oba smera'\n",
    "- **16** 'Zabrana saobracaja za teretna vozila') **17** 'Zabrana saobracaja u jednom smeru'\n",
    "- **18** 'Opasnost na putu') **19** 'Krivina nalevo' **20** 'Krivina nadesno' \n",
    "- **21** 'Dvostruka krivina' **22** 'Neravan kolovoz' **23** 'Klizav kolovoz'\n",
    "- **24** Suzenje puta sa desne strane' **25** 'Radovi na putu'\n",
    "- **26** Nailazenje na semafor' **27** 'Pesaci na putu' **28** 'Deca na putu'\n",
    "- **29** Biciklisti na putu' **30** 'Poledica/sneg' **31** 'Divljac na putu'\n",
    "- **32** 'Prestanak svih zabrana' **33** 'Obavezan smer - poludesno'\n",
    "- **34** 'Obavezan smer - polulevo' **35** 'Obazvezan smer - pravo' **36** 'Dozvoljeni smerovi (pravo ili desno)'\n",
    "- **37** Dozvoljeni smerovi (pravo ili levo)' \n",
    "- **38** 'Obavezno obilazenje s desne strane' **39** 'Obavezno obilazenje s leve strane' **40** Kruzni tok saobracaja' \n",
    "- **41** 'Prestanak zabrane preticanja svih motornih vozila, osim motocikala bez prikolice'\n",
    "- **42** Prestanak zabrane preticanja za teretna vozila'"
   ]
  },
  {
   "cell_type": "markdown",
   "id": "1d793525",
   "metadata": {},
   "source": [
    "Ucitavanje biblioteka."
   ]
  },
  {
   "cell_type": "code",
   "execution_count": 1,
   "id": "0c90c2de",
   "metadata": {},
   "outputs": [],
   "source": [
    "import pickle\n",
    "import pandas as pd \n",
    "import numpy as np \n",
    "import matplotlib.pyplot as plt \n",
    "import random"
   ]
  },
  {
   "cell_type": "code",
   "execution_count": 2,
   "id": "45cc7b63",
   "metadata": {},
   "outputs": [],
   "source": [
    "from sklearn.utils import shuffle\n",
    "from sklearn.model_selection import train_test_split\n",
    "from sklearn.metrics import confusion_matrix, classification_report"
   ]
  },
  {
   "cell_type": "code",
   "execution_count": 3,
   "id": "01a363cf",
   "metadata": {},
   "outputs": [],
   "source": [
    "from tensorflow.keras.models import Sequential\n",
    "from tensorflow.keras.layers import Conv2D, MaxPooling2D, Dense, Flatten, Dropout, Input\n",
    "from tensorflow.keras.optimizers import Adam\n",
    "from tensorflow.keras.losses import CategoricalCrossentropy\n",
    "from tensorflow.keras.models import load_model\n",
    "from tensorflow.keras import utils"
   ]
  },
  {
   "cell_type": "markdown",
   "id": "3256cde2",
   "metadata": {},
   "source": [
    "Ucitavanje skupa podataka."
   ]
  },
  {
   "cell_type": "code",
   "execution_count": 4,
   "id": "f224d659",
   "metadata": {},
   "outputs": [],
   "source": [
    "with open(\"./traffic-signs-data/train.p\", mode='rb') as training_data:\n",
    "    train = pickle.load(training_data)\n",
    "with open(\"./traffic-signs-data/valid.p\", mode='rb') as validation_data:\n",
    "    valid = pickle.load(validation_data)\n",
    "with open(\"./traffic-signs-data/test.p\", mode='rb') as testing_data:\n",
    "    test = pickle.load(testing_data)"
   ]
  },
  {
   "cell_type": "code",
   "execution_count": 5,
   "id": "c200f912",
   "metadata": {},
   "outputs": [],
   "source": [
    "X_train, y_train = train['features'], train['labels']\n",
    "X_validation, y_validation = valid['features'], valid['labels']\n",
    "X_test, y_test = test['features'], test['labels']"
   ]
  },
  {
   "cell_type": "code",
   "execution_count": 6,
   "id": "46594fdb",
   "metadata": {},
   "outputs": [
    {
     "data": {
      "text/plain": [
       "(34799, 32, 32, 3)"
      ]
     },
     "execution_count": 6,
     "metadata": {},
     "output_type": "execute_result"
    }
   ],
   "source": [
    "X_train.shape"
   ]
  },
  {
   "cell_type": "code",
   "execution_count": 7,
   "id": "58b6037b",
   "metadata": {},
   "outputs": [
    {
     "data": {
      "text/plain": [
       "(34799,)"
      ]
     },
     "execution_count": 7,
     "metadata": {},
     "output_type": "execute_result"
    }
   ],
   "source": [
    "y_train.shape"
   ]
  },
  {
   "cell_type": "code",
   "execution_count": 8,
   "id": "f5462797",
   "metadata": {},
   "outputs": [
    {
     "data": {
      "image/png": "[encoded data removed]",
      "text/plain": [
       "<Figure size 432x288 with 1 Axes>"
      ]
     },
     "metadata": {
      "needs_background": "light"
     },
     "output_type": "display_data"
    }
   ],
   "source": [
    "plt.title('Saobracajni znakovi u test skupu')\n",
    "plt.barh(np.arange(0, 43), np.bincount(y_test), color='purple')\n",
    "plt.show()"
   ]
  },
  {
   "cell_type": "markdown",
   "id": "ed908dc0",
   "metadata": {},
   "source": [
    "Jedna instanca ucitanog skupa."
   ]
  },
  {
   "cell_type": "code",
   "execution_count": 9,
   "id": "ad7be604",
   "metadata": {},
   "outputs": [
    {
     "data": {
      "text/plain": [
       "36"
      ]
     },
     "execution_count": 9,
     "metadata": {},
     "output_type": "execute_result"
    },
    {
     "data": {
      "image/png": "[encoded data removed]",
      "text/plain": [
       "<Figure size 432x288 with 1 Axes>"
      ]
     },
     "metadata": {
      "needs_background": "light"
     },
     "output_type": "display_data"
    }
   ],
   "source": [
    "i = 1001\n",
    "plt.imshow(X_train[i]) \n",
    "y_train[i]"
   ]
  },
  {
   "cell_type": "code",
   "execution_count": 10,
   "id": "3d722e05",
   "metadata": {},
   "outputs": [
    {
     "data": {
      "text/plain": [
       "(34799, 32, 32, 3)"
      ]
     },
     "execution_count": 10,
     "metadata": {},
     "output_type": "execute_result"
    }
   ],
   "source": [
    "X_train.shape"
   ]
  },
  {
   "cell_type": "code",
   "execution_count": null,
   "id": "18f72b9f",
   "metadata": {},
   "outputs": [],
   "source": []
  }
 ],
 "metadata": {
  "kernelspec": {
   "display_name": "Python 3",
   "language": "python",
   "name": "python3"
  },
  "language_info": {
   "codemirror_mode": {
    "name": "ipython",
    "version": 3
   },
   "file_extension": ".py",
   "mimetype": "text/x-python",
   "name": "python",
   "nbconvert_exporter": "python",
   "pygments_lexer": "ipython3",
   "version": "3.8.8"
  }
 },
 "nbformat": 4,
 "nbformat_minor": 5
}
