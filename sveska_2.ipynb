{
 "cells": [
  {
   "cell_type": "markdown",
   "id": "0fdb8420",
   "metadata": {},
   "source": [
    "# PREPOZNAVANJE SAOBRACAJNIH ZNAKOVA"
   ]
  },
  {
   "cell_type": "markdown",
   "id": "d1973d0a",
   "metadata": {},
   "source": [
    "Skup podataka o slikama sastoji se od vise od 30 000 slika razlicitih saobracajnih znakova. Prisutne su 43 razlicite klase  u skupu podataka za klasifikaciju slika."
   ]
  },
  {
   "cell_type": "markdown",
   "id": "982e4828",
   "metadata": {},
   "source": [
    "- **0** 'Ogranicenje brzine (20km/h)  **1** 'Ogranicenje brzine (30km/h)'\n",
    "- **2** 'Ogranicenje brzine (50km/h)' **3** 'Ogranicenje brzine (60km/h)'\n",
    "- **4** 'Ogranicenje brzine (70km/h)') **5** 'Ogranicenje brzine (80km/h)'\n",
    "- **6** 'Prestanak ogranicenja brzine (80km/h)' **7** 'Ogranicenje brzine (100km/h)'\n",
    "- **8** 'Ogranicenje brzine (120km/h)' **9** Zabrana preticanja za motorna vozila'\n",
    "- **10** 'Zabrana preticanja za teretna vozila'\n",
    "- **11** 'Spajanje sa sporednim putem pod pravim uglom sa desne strane' **12** 'Put sa prvenstvom prolaza'\n",
    "- **13** 'Ukrstanje sa putem sa prvenstvom prolaza' **14** 'Stop' **15** 'Zabrana saobracaja u oba smera'\n",
    "- **16** 'Zabrana saobracaja za teretna vozila') **17** 'Zabrana saobracaja u jednom smeru'\n",
    "- **18** 'Opasnost na putu') **19** 'Krivina nalevo' **20** 'Krivina nadesno' \n",
    "- **21** 'Dvostruka krivina' **22** 'Neravan kolovoz' **23** 'Klizav kolovoz'\n",
    "- **24** Suzenje puta sa desne strane' **25** 'Radovi na putu'\n",
    "- **26** Nailazenje na semafor' **27** 'Pesaci na putu' **28** 'Deca na putu'\n",
    "- **29** Biciklisti na putu' **30** 'Poledica/sneg' **31** 'Divljac na putu'\n",
    "- **32** 'Prestanak svih zabrana' **33** 'Obavezan smer - poludesno'\n",
    "- **34** 'Obavezan smer - polulevo' **35** 'Obazvezan smer - pravo' **36** 'Dozvoljeni smerovi (pravo ili desno)'\n",
    "- **37** Dozvoljeni smerovi (pravo ili levo)' \n",
    "- **38** 'Obavezno obilazenje s desne strane' **39** 'Obavezno obilazenje s leve strane' **40** Kruzni tok saobracaja' \n",
    "- **41** 'Prestanak zabrane preticanja svih motornih vozila, osim motocikala bez prikolice'\n",
    "- **42** Prestanak zabrane preticanja za teretna vozila'"
   ]
  },
  {
   "cell_type": "markdown",
   "id": "1d793525",
   "metadata": {},
   "source": [
    "Ucitavanje biblioteka."
   ]
  },
  {
   "cell_type": "code",
   "execution_count": 1,
   "id": "0c90c2de",
   "metadata": {},
   "outputs": [],
   "source": [
    "import pickle\n",
    "import pandas as pd \n",
    "import numpy as np \n",
    "import matplotlib.pyplot as plt \n",
    "import random"
   ]
  },
  {
   "cell_type": "code",
   "execution_count": 2,
   "id": "45cc7b63",
   "metadata": {},
   "outputs": [],
   "source": [
    "from sklearn.utils import shuffle\n",
    "from sklearn.model_selection import train_test_split\n",
    "from sklearn.metrics import confusion_matrix, classification_report"
   ]
  },
  {
   "cell_type": "code",
   "execution_count": 3,
   "id": "01a363cf",
   "metadata": {},
   "outputs": [],
   "source": [
    "from tensorflow.keras.models import Sequential\n",
    "from tensorflow.keras.layers import Conv2D, MaxPooling2D, Dense, Flatten, Dropout, Input\n",
    "from tensorflow.keras.optimizers import Adam\n",
    "from tensorflow.keras.losses import CategoricalCrossentropy\n",
    "from tensorflow.keras.models import load_model\n",
    "from tensorflow.keras import utils"
   ]
  },
  {
   "cell_type": "markdown",
   "id": "3256cde2",
   "metadata": {},
   "source": [
    "Ucitavanje skupa podataka."
   ]
  },
  {
   "cell_type": "code",
   "execution_count": 4,
   "id": "f224d659",
   "metadata": {},
   "outputs": [],
   "source": [
    "with open(\"./traffic-signs-data/train.p\", mode='rb') as training_data:\n",
    "    train = pickle.load(training_data)\n",
    "with open(\"./traffic-signs-data/valid.p\", mode='rb') as validation_data:\n",
    "    valid = pickle.load(validation_data)\n",
    "with open(\"./traffic-signs-data/test.p\", mode='rb') as testing_data:\n",
    "    test = pickle.load(testing_data)"
   ]
  },
  {
   "cell_type": "code",
   "execution_count": 5,
   "id": "c200f912",
   "metadata": {},
   "outputs": [],
   "source": [
    "X_train, y_train = train['features'], train['labels']\n",
    "X_validation, y_validation = valid['features'], valid['labels']\n",
    "X_test, y_test = test['features'], test['labels']"
   ]
  },
  {
   "cell_type": "code",
   "execution_count": 6,
   "id": "46594fdb",
   "metadata": {},
   "outputs": [
    {
     "data": {
      "text/plain": [
       "(34799, 32, 32, 3)"
      ]
     },
     "execution_count": 6,
     "metadata": {},
     "output_type": "execute_result"
    }
   ],
   "source": [
    "X_train.shape"
   ]
  },
  {
   "cell_type": "code",
   "execution_count": 7,
   "id": "58b6037b",
   "metadata": {},
   "outputs": [
    {
     "data": {
      "text/plain": [
       "(34799,)"
      ]
     },
     "execution_count": 7,
     "metadata": {},
     "output_type": "execute_result"
    }
   ],
   "source": [
    "y_train.shape"
   ]
  },
  {
   "cell_type": "code",
   "execution_count": 8,
   "id": "f5462797",
   "metadata": {},
   "outputs": [
    {
     "data": {
      "image/png": "[encoded data removed]",
      "text/plain": [
       "<Figure size 432x288 with 1 Axes>"
      ]
     },
     "metadata": {
      "needs_background": "light"
     },
     "output_type": "display_data"
    }
   ],
   "source": [
    "plt.title('Saobracajni znakovi u test skupu')\n",
    "plt.barh(np.arange(0, 43), np.bincount(y_test), color='purple')\n",
    "plt.show()"
   ]
  },
  {
   "cell_type": "markdown",
   "id": "ed908dc0",
   "metadata": {},
   "source": [
    "Jedna instanca ucitanog skupa."
   ]
  },
  {
   "cell_type": "code",
   "execution_count": 9,
   "id": "ad7be604",
   "metadata": {},
   "outputs": [
    {
     "data": {
      "text/plain": [
       "36"
      ]
     },
     "execution_count": 9,
     "metadata": {},
     "output_type": "execute_result"
    },
    {
     "data": {
      "image/png": "[encoded data removed]",
      "text/plain": [
       "<Figure size 432x288 with 1 Axes>"
      ]
     },
     "metadata": {
      "needs_background": "light"
     },
     "output_type": "display_data"
    }
   ],
   "source": [
    "i = 1001\n",
    "plt.imshow(X_train[i]) \n",
    "y_train[i]"
   ]
  },
  {
   "cell_type": "code",
   "execution_count": 10,
   "id": "3d722e05",
   "metadata": {},
   "outputs": [
    {
     "data": {
      "text/plain": [
       "(34799, 32, 32, 3)"
      ]
     },
     "execution_count": 10,
     "metadata": {},
     "output_type": "execute_result"
    }
   ],
   "source": [
    "X_train.shape"
   ]
  },
  {
   "cell_type": "markdown",
   "id": "425663f3",
   "metadata": {},
   "source": [
    "## PRIPREMA PODATAKA"
   ]
  },
  {
   "cell_type": "code",
   "execution_count": 11,
   "id": "32cf7e34",
   "metadata": {},
   "outputs": [],
   "source": [
    "# mesamo skup podataka\n",
    "X_train, y_train = shuffle(X_train, y_train)"
   ]
  },
  {
   "cell_type": "code",
   "execution_count": 12,
   "id": "ee9ad975",
   "metadata": {},
   "outputs": [],
   "source": [
    "# prebacujemo slike u monohromatske\n",
    "X_train_gray = np.sum(X_train/3, axis=3, keepdims=True)\n",
    "X_test_gray  = np.sum(X_test/3, axis=3, keepdims=True)\n",
    "X_validation_gray  = np.sum(X_validation/3, axis=3, keepdims=True) "
   ]
  },
  {
   "cell_type": "code",
   "execution_count": 13,
   "id": "73c9e701",
   "metadata": {},
   "outputs": [],
   "source": [
    "# a potom ih i normalizujemo\n",
    "X_train_gray_norm = (X_train_gray - 128)/128 \n",
    "X_test_gray_norm = (X_test_gray - 128)/128\n",
    "X_validation_gray_norm = (X_validation_gray - 128)/128"
   ]
  },
  {
   "cell_type": "code",
   "execution_count": 14,
   "id": "83538e5c",
   "metadata": {},
   "outputs": [
    {
     "data": {
      "text/plain": [
       "(34799, 32, 32, 1)"
      ]
     },
     "execution_count": 14,
     "metadata": {},
     "output_type": "execute_result"
    }
   ],
   "source": [
    "X_train_gray.shape"
   ]
  },
  {
   "cell_type": "code",
   "execution_count": 15,
   "id": "f3f16cc3",
   "metadata": {},
   "outputs": [],
   "source": [
    "# primenicemo one-hot encoding na ciljnu promenljivu\n",
    "y_train = utils.to_categorical(y_train, 43)\n",
    "y_test = utils.to_categorical(y_test, 43)\n",
    "y_validation = utils.to_categorical(y_validation, 43)"
   ]
  },
  {
   "cell_type": "code",
   "execution_count": 16,
   "id": "e8cbcc5d",
   "metadata": {},
   "outputs": [
    {
     "data": {
      "image/png": "[encoded data removed]",
      "text/plain": [
       "<Figure size 432x288 with 1 Axes>"
      ]
     },
     "metadata": {
      "needs_background": "light"
     },
     "output_type": "display_data"
    },
    {
     "data": {
      "image/png": "[encoded data removed]",
      "text/plain": [
       "<Figure size 432x288 with 1 Axes>"
      ]
     },
     "metadata": {
      "needs_background": "light"
     },
     "output_type": "display_data"
    }
   ],
   "source": [
    "i = 610\n",
    "plt.imshow(X_train_gray[i].squeeze(), cmap='gray')\n",
    "plt.figure()\n",
    "plt.imshow(X_train[i])\n",
    "plt.show()"
   ]
  },
  {
   "cell_type": "code",
   "execution_count": 17,
   "id": "83064065",
   "metadata": {},
   "outputs": [
    {
     "data": {
      "text/plain": [
       "(32, 32, 1)"
      ]
     },
     "execution_count": 17,
     "metadata": {},
     "output_type": "execute_result"
    }
   ],
   "source": [
    "image_shape = X_train_gray[i].shape\n",
    "image_shape"
   ]
  },
  {
   "cell_type": "markdown",
   "id": "ff30c58b",
   "metadata": {},
   "source": [
    "## TRENIRANJE MODELA"
   ]
  },
  {
   "cell_type": "markdown",
   "id": "7e0dd4d4",
   "metadata": {},
   "source": [
    "Nasa mreza imace sledecu arhitekturu."
   ]
  },
  {
   "cell_type": "code",
   "execution_count": 18,
   "id": "f5cdcfed",
   "metadata": {},
   "outputs": [],
   "source": [
    "model = Sequential()\n",
    "model.add(Input(shape=image_shape))\n",
    "model.add(Conv2D(filters=32, kernel_size=(5,5), activation='relu'))\n",
    "model.add(Conv2D(filters=32, kernel_size=(5,5), activation='relu'))\n",
    "model.add(MaxPooling2D(pool_size=(2, 2)))\n",
    "model.add(Dropout(rate=0.25))\n",
    "model.add(Conv2D(filters=64, kernel_size=(3, 3), activation='relu'))\n",
    "model.add(Conv2D(filters=64, kernel_size=(3, 3), activation='relu'))\n",
    "model.add(MaxPooling2D(pool_size=(2, 2)))\n",
    "model.add(Dropout(rate=0.25))\n",
    "model.add(Flatten())\n",
    "model.add(Dense(256, activation='relu'))\n",
    "model.add(Dropout(rate=0.5))\n",
    "model.add(Dense(43, activation='softmax'))"
   ]
  },
  {
   "cell_type": "code",
   "execution_count": 19,
   "id": "d01a3f23",
   "metadata": {},
   "outputs": [
    {
     "name": "stdout",
     "output_type": "stream",
     "text": [
      "Model: \"sequential\"\n",
      "_________________________________________________________________\n",
      "Layer (type)                 Output Shape              Param #   \n",
      "=================================================================\n",
      "conv2d (Conv2D)              (None, 28, 28, 32)        832       \n",
      "_________________________________________________________________\n",
      "conv2d_1 (Conv2D)            (None, 24, 24, 32)        25632     \n",
      "_________________________________________________________________\n",
      "max_pooling2d (MaxPooling2D) (None, 12, 12, 32)        0         \n",
      "_________________________________________________________________\n",
      "dropout (Dropout)            (None, 12, 12, 32)        0         \n",
      "_________________________________________________________________\n",
      "conv2d_2 (Conv2D)            (None, 10, 10, 64)        18496     \n",
      "_________________________________________________________________\n",
      "conv2d_3 (Conv2D)            (None, 8, 8, 64)          36928     \n",
      "_________________________________________________________________\n",
      "max_pooling2d_1 (MaxPooling2 (None, 4, 4, 64)          0         \n",
      "_________________________________________________________________\n",
      "dropout_1 (Dropout)          (None, 4, 4, 64)          0         \n",
      "_________________________________________________________________\n",
      "flatten (Flatten)            (None, 1024)              0         \n",
      "_________________________________________________________________\n",
      "dense (Dense)                (None, 256)               262400    \n",
      "_________________________________________________________________\n",
      "dropout_2 (Dropout)          (None, 256)               0         \n",
      "_________________________________________________________________\n",
      "dense_1 (Dense)              (None, 43)                11051     \n",
      "=================================================================\n",
      "Total params: 355,339\n",
      "Trainable params: 355,339\n",
      "Non-trainable params: 0\n",
      "_________________________________________________________________\n"
     ]
    }
   ],
   "source": [
    "model.summary()"
   ]
  },
  {
   "cell_type": "markdown",
   "id": "9fdaa690",
   "metadata": {},
   "source": [
    "Funkcija gubitka koju mreza minimizuje ce biti kategoricka unakrsna entropija. Za treniranje mreze cemo koristiti optimizator Adam sa podesenim korakom ucenja."
   ]
  },
  {
   "cell_type": "code",
   "execution_count": 20,
   "id": "50443b94",
   "metadata": {},
   "outputs": [],
   "source": [
    "model.compile(loss=CategoricalCrossentropy(), optimizer=Adam(lr=0.001), metrics =['accuracy'])"
   ]
  },
  {
   "cell_type": "markdown",
   "id": "63ed7a84",
   "metadata": {},
   "source": [
    "Mrezu cemo trenirati u 15 epoha koriscenjem paketica velicine 32 instanci."
   ]
  },
  {
   "cell_type": "code",
   "execution_count": 21,
   "id": "f6d2cde9",
   "metadata": {},
   "outputs": [],
   "source": [
    "epochs = 15\n",
    "batch_size = 32"
   ]
  },
  {
   "cell_type": "code",
   "execution_count": 22,
   "id": "9591ad76",
   "metadata": {},
   "outputs": [
    {
     "name": "stdout",
     "output_type": "stream",
     "text": [
      "Epoch 1/15\n",
      "1088/1088 [==============================] - 1198s 1s/step - loss: 0.9193 - accuracy: 0.7457 - val_loss: 0.1811 - val_accuracy: 0.9469\n",
      "Epoch 2/15\n",
      "1088/1088 [==============================] - 1144s 1s/step - loss: 0.1715 - accuracy: 0.9484 - val_loss: 0.0860 - val_accuracy: 0.9744\n",
      "Epoch 3/15\n",
      "1088/1088 [==============================] - 1137s 1s/step - loss: 0.1208 - accuracy: 0.9628 - val_loss: 0.0678 - val_accuracy: 0.9830\n",
      "Epoch 4/15\n",
      "1088/1088 [==============================] - 1142s 1s/step - loss: 0.0881 - accuracy: 0.9736 - val_loss: 0.0748 - val_accuracy: 0.9814\n",
      "Epoch 5/15\n",
      "1088/1088 [==============================] - 1138s 1s/step - loss: 0.0800 - accuracy: 0.9757 - val_loss: 0.0800 - val_accuracy: 0.9798\n",
      "Epoch 6/15\n",
      "1088/1088 [==============================] - 1136s 1s/step - loss: 0.0758 - accuracy: 0.9778 - val_loss: 0.0796 - val_accuracy: 0.9823\n",
      "Epoch 7/15\n",
      "1088/1088 [==============================] - 1136s 1s/step - loss: 0.0670 - accuracy: 0.9799 - val_loss: 0.0603 - val_accuracy: 0.9850\n",
      "Epoch 8/15\n",
      "1088/1088 [==============================] - 1137s 1s/step - loss: 0.0664 - accuracy: 0.9805 - val_loss: 0.0564 - val_accuracy: 0.9878\n",
      "Epoch 9/15\n",
      "1088/1088 [==============================] - 1139s 1s/step - loss: 0.0525 - accuracy: 0.9845 - val_loss: 0.0559 - val_accuracy: 0.9896\n",
      "Epoch 10/15\n",
      "1088/1088 [==============================] - 1135s 1s/step - loss: 0.0634 - accuracy: 0.9820 - val_loss: 0.0591 - val_accuracy: 0.9889\n",
      "Epoch 11/15\n",
      "1088/1088 [==============================] - 1135s 1s/step - loss: 0.0493 - accuracy: 0.9857 - val_loss: 0.0626 - val_accuracy: 0.9878\n",
      "Epoch 12/15\n",
      "1088/1088 [==============================] - 1135s 1s/step - loss: 0.0495 - accuracy: 0.9856 - val_loss: 0.1065 - val_accuracy: 0.9812\n",
      "Epoch 13/15\n",
      "1088/1088 [==============================] - 1137s 1s/step - loss: 0.0468 - accuracy: 0.9860 - val_loss: 0.0627 - val_accuracy: 0.9896\n",
      "Epoch 14/15\n",
      "1088/1088 [==============================] - 1144s 1s/step - loss: 0.0494 - accuracy: 0.9862 - val_loss: 0.0624 - val_accuracy: 0.9864\n",
      "Epoch 15/15\n",
      "1088/1088 [==============================] - 1140s 1s/step - loss: 0.0444 - accuracy: 0.9874 - val_loss: 0.0518 - val_accuracy: 0.9896\n"
     ]
    }
   ],
   "source": [
    "history = model.fit(X_train_gray_norm, y_train, batch_size=batch_size, epochs=epochs, verbose=1, \n",
    "                    validation_data = (X_validation_gray_norm, y_validation))"
   ]
  },
  {
   "cell_type": "markdown",
   "id": "7e90d47f",
   "metadata": {},
   "source": [
    "## EVALUACIJA MODELA"
   ]
  },
  {
   "cell_type": "code",
   "execution_count": 23,
   "id": "478caa02",
   "metadata": {},
   "outputs": [
    {
     "name": "stdout",
     "output_type": "stream",
     "text": [
      "Test Accuracy : 0.9718\n"
     ]
    }
   ],
   "source": [
    "score = model.evaluate(X_test_gray_norm, y_test,verbose=0)\n",
    "print('Test Accuracy : {:.4f}'.format(score[1]))"
   ]
  },
  {
   "cell_type": "markdown",
   "id": "659457a4",
   "metadata": {},
   "source": [
    "Mozemo i nacrtati grafike funkcije gubitka i tacnosti u toku treniranja."
   ]
  },
  {
   "cell_type": "code",
   "execution_count": 24,
   "id": "e18c5769",
   "metadata": {},
   "outputs": [
    {
     "data": {
      "image/png": "[encoded data removed]",
      "text/plain": [
       "<Figure size 720x288 with 2 Axes>"
      ]
     },
     "metadata": {
      "needs_background": "light"
     },
     "output_type": "display_data"
    }
   ],
   "source": [
    "plt.figure(figsize=(10, 4))\n",
    "\n",
    "plt.subplot(1, 2, 1)\n",
    "plt.title('Loss')\n",
    "plt.plot(np.arange(0, epochs), history.history['loss'], label='train')\n",
    "plt.plot(np.arange(0, epochs), history.history['val_loss'], label='val')\n",
    "plt.legend(loc='best')\n",
    "\n",
    "plt.subplot(1, 2, 2)\n",
    "plt.title('Accuracy')\n",
    "plt.plot(np.arange(0, epochs), history.history['accuracy'], label='train')\n",
    "plt.plot(np.arange(0, epochs), history.history['val_accuracy'], label='val')\n",
    "plt.legend(loc='best')\n",
    "\n",
    "plt.show()"
   ]
  },
  {
   "cell_type": "code",
   "execution_count": null,
   "id": "f385e598",
   "metadata": {},
   "outputs": [],
   "source": []
  }
 ],
 "metadata": {
  "kernelspec": {
   "display_name": "Python 3",
   "language": "python",
   "name": "python3"
  },
  "language_info": {
   "codemirror_mode": {
    "name": "ipython",
    "version": 3
   },
   "file_extension": ".py",
   "mimetype": "text/x-python",
   "name": "python",
   "nbconvert_exporter": "python",
   "pygments_lexer": "ipython3",
   "version": "3.8.8"
  }
 },
 "nbformat": 4,
 "nbformat_minor": 5
}
