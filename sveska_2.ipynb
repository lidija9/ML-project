{
 "cells": [
  {
   "cell_type": "markdown",
   "id": "0fdb8420",
   "metadata": {},
   "source": [
    "# PREPOZNAVANJE SAOBRACAJNIH ZNAKOVA"
   ]
  },
  {
   "cell_type": "markdown",
   "id": "d1973d0a",
   "metadata": {},
   "source": [
    "Skup podataka o slikama sastoji se od vise od 30 000 slika razlicitih saobracajnih znakova. Prisutne su 43 razlicite klase  u skupu podataka za klasifikaciju slika."
   ]
  },
  {
   "cell_type": "markdown",
   "id": "982e4828",
   "metadata": {},
   "source": [
    "- **0** 'Ogranicenje brzine (20km/h)  **1** 'Ogranicenje brzine (30km/h)'\n",
    "- **2** 'Ogranicenje brzine (50km/h)' **3** 'Ogranicenje brzine (60km/h)'\n",
    "- **4** 'Ogranicenje brzine (70km/h)') **5** 'Ogranicenje brzine (80km/h)'\n",
    "- **6** 'Prestanak ogranicenja brzine (80km/h)' **7** 'Ogranicenje brzine (100km/h)'\n",
    "- **8** 'Ogranicenje brzine (120km/h)' **9** Zabrana preticanja za motorna vozila'\n",
    "- **10** 'Zabrana preticanja za teretna vozila'\n",
    "- **11** 'Spajanje sa sporednim putem pod pravim uglom sa desne strane' **12** 'Put sa prvenstvom prolaza'\n",
    "- **13** 'Ukrstanje sa putem sa prvenstvom prolaza' **14** 'Stop' **15** 'Zabrana saobracaja u oba smera'\n",
    "- **16** 'Zabrana saobracaja za teretna vozila') **17** 'Zabrana saobracaja u jednom smeru'\n",
    "- **18** 'Opasnost na putu') **19** 'Krivina nalevo' **20** 'Krivina nadesno' \n",
    "- **21** 'Dvostruka krivina' **22** 'Neravan kolovoz' **23** 'Klizav kolovoz'\n",
    "- **24** Suzenje puta sa desne strane' **25** 'Radovi na putu'\n",
    "- **26** Nailazenje na semafor' **27** 'Pesaci na putu' **28** 'Deca na putu'\n",
    "- **29** Biciklisti na putu' **30** 'Poledica/sneg' **31** 'Divljac na putu'\n",
    "- **32** 'Prestanak svih zabrana' **33** 'Obavezan smer - poludesno'\n",
    "- **34** 'Obavezan smer - polulevo' **35** 'Obazvezan smer - pravo' **36** 'Dozvoljeni smerovi (pravo ili desno)'\n",
    "- **37** Dozvoljeni smerovi (pravo ili levo)' \n",
    "- **38** 'Obavezno obilazenje s desne strane' **39** 'Obavezno obilazenje s leve strane' **40** Kruzni tok saobracaja' \n",
    "- **41** 'Prestanak zabrane preticanja svih motornih vozila, osim motocikala bez prikolice'\n",
    "- **42** Prestanak zabrane preticanja za teretna vozila'"
   ]
  },
  {
   "cell_type": "markdown",
   "id": "1d793525",
   "metadata": {},
   "source": [
    "Ucitavanje biblioteka."
   ]
  },
  {
   "cell_type": "code",
   "execution_count": 1,
   "id": "0c90c2de",
   "metadata": {},
   "outputs": [],
   "source": [
    "import pickle\n",
    "import pandas as pd \n",
    "import numpy as np \n",
    "import matplotlib.pyplot as plt \n",
    "import random"
   ]
  },
  {
   "cell_type": "code",
   "execution_count": 2,
   "id": "45cc7b63",
   "metadata": {},
   "outputs": [],
   "source": [
    "from sklearn.utils import shuffle\n",
    "from sklearn.model_selection import train_test_split\n",
    "from sklearn.metrics import confusion_matrix, classification_report"
   ]
  },
  {
   "cell_type": "code",
   "execution_count": 3,
   "id": "01a363cf",
   "metadata": {},
   "outputs": [],
   "source": [
    "from tensorflow.keras.models import Sequential\n",
    "from tensorflow.keras.layers import Conv2D, MaxPooling2D, Dense, Flatten, Dropout, Input\n",
    "from tensorflow.keras.optimizers import Adam\n",
    "from tensorflow.keras.losses import CategoricalCrossentropy\n",
    "from tensorflow.keras.models import load_model\n",
    "from tensorflow.keras import utils"
   ]
  },
  {
   "cell_type": "markdown",
   "id": "3256cde2",
   "metadata": {},
   "source": [
    "Ucitavanje skupa podataka."
   ]
  },
  {
   "cell_type": "code",
   "execution_count": 4,
   "id": "f224d659",
   "metadata": {},
   "outputs": [],
   "source": [
    "with open(\"./traffic-signs-data/train.p\", mode='rb') as training_data:\n",
    "    train = pickle.load(training_data)\n",
    "with open(\"./traffic-signs-data/valid.p\", mode='rb') as validation_data:\n",
    "    valid = pickle.load(validation_data)\n",
    "with open(\"./traffic-signs-data/test.p\", mode='rb') as testing_data:\n",
    "    test = pickle.load(testing_data)"
   ]
  },
  {
   "cell_type": "code",
   "execution_count": 5,
   "id": "c200f912",
   "metadata": {},
   "outputs": [],
   "source": [
    "X_train, y_train = train['features'], train['labels']\n",
    "X_validation, y_validation = valid['features'], valid['labels']\n",
    "X_test, y_test = test['features'], test['labels']"
   ]
  },
  {
   "cell_type": "code",
   "execution_count": 6,
   "id": "46594fdb",
   "metadata": {},
   "outputs": [
    {
     "data": {
      "text/plain": [
       "(34799, 32, 32, 3)"
      ]
     },
     "execution_count": 6,
     "metadata": {},
     "output_type": "execute_result"
    }
   ],
   "source": [
    "X_train.shape"
   ]
  },
  {
   "cell_type": "code",
   "execution_count": 7,
   "id": "58b6037b",
   "metadata": {},
   "outputs": [
    {
     "data": {
      "text/plain": [
       "(34799,)"
      ]
     },
     "execution_count": 7,
     "metadata": {},
     "output_type": "execute_result"
    }
   ],
   "source": [
    "y_train.shape"
   ]
  },
  {
   "cell_type": "code",
   "execution_count": 8,
   "id": "f5462797",
   "metadata": {},
   "outputs": [
    {
     "data": {
      "image/png": "[encoded data removed]",
      "text/plain": [
       "<Figure size 432x288 with 1 Axes>"
      ]
     },
     "metadata": {
      "needs_background": "light"
     },
     "output_type": "display_data"
    }
   ],
   "source": [
    "plt.title('Saobracajni znakovi u test skupu')\n",
    "plt.barh(np.arange(0, 43), np.bincount(y_test), color='purple')\n",
    "plt.show()"
   ]
  },
  {
   "cell_type": "markdown",
   "id": "ed908dc0",
   "metadata": {},
   "source": [
    "Jedna instanca ucitanog skupa."
   ]
  },
  {
   "cell_type": "code",
   "execution_count": 9,
   "id": "ad7be604",
   "metadata": {},
   "outputs": [
    {
     "data": {
      "text/plain": [
       "36"
      ]
     },
     "execution_count": 9,
     "metadata": {},
     "output_type": "execute_result"
    },
    {
     "data": {
      "image/png": "[encoded data removed]",
      "text/plain": [
       "<Figure size 432x288 with 1 Axes>"
      ]
     },
     "metadata": {
      "needs_background": "light"
     },
     "output_type": "display_data"
    }
   ],
   "source": [
    "i = 1001\n",
    "plt.imshow(X_train[i]) \n",
    "y_train[i]"
   ]
  },
  {
   "cell_type": "code",
   "execution_count": 10,
   "id": "3d722e05",
   "metadata": {},
   "outputs": [
    {
     "data": {
      "text/plain": [
       "(34799, 32, 32, 3)"
      ]
     },
     "execution_count": 10,
     "metadata": {},
     "output_type": "execute_result"
    }
   ],
   "source": [
    "X_train.shape"
   ]
  },
  {
   "cell_type": "markdown",
   "id": "c3da834f",
   "metadata": {},
   "source": [
    "## PRIPREMA PODATAKA"
   ]
  },
  {
   "cell_type": "code",
   "execution_count": 11,
   "id": "240924cf",
   "metadata": {},
   "outputs": [],
   "source": [
    "# mesamo skup podataka\n",
    "X_train, y_train = shuffle(X_train, y_train)"
   ]
  },
  {
   "cell_type": "code",
   "execution_count": 12,
   "id": "ea2bda43",
   "metadata": {},
   "outputs": [],
   "source": [
    "# prebacujemo slike u monohromatske\n",
    "X_train_gray = np.sum(X_train/3, axis=3, keepdims=True)\n",
    "X_test_gray  = np.sum(X_test/3, axis=3, keepdims=True)\n",
    "X_validation_gray  = np.sum(X_validation/3, axis=3, keepdims=True) "
   ]
  },
  {
   "cell_type": "code",
   "execution_count": 13,
   "id": "2ea18425",
   "metadata": {},
   "outputs": [],
   "source": [
    "# a potom ih i normalizujemo\n",
    "X_train_gray_norm = (X_train_gray - 128)/128 \n",
    "X_test_gray_norm = (X_test_gray - 128)/128\n",
    "X_validation_gray_norm = (X_validation_gray - 128)/128"
   ]
  },
  {
   "cell_type": "code",
   "execution_count": 14,
   "id": "b32f8f9b",
   "metadata": {},
   "outputs": [
    {
     "data": {
      "text/plain": [
       "(34799, 32, 32, 1)"
      ]
     },
     "execution_count": 14,
     "metadata": {},
     "output_type": "execute_result"
    }
   ],
   "source": [
    "X_train_gray.shape"
   ]
  },
  {
   "cell_type": "code",
   "execution_count": 15,
   "id": "ac57146d",
   "metadata": {},
   "outputs": [],
   "source": [
    "# primenicemo one-hot encoding na ciljnu promenljivu\n",
    "y_train = utils.to_categorical(y_train, 43)\n",
    "y_test = utils.to_categorical(y_test, 43)\n",
    "y_validation = utils.to_categorical(y_validation, 43)"
   ]
  },
  {
   "cell_type": "code",
   "execution_count": 16,
   "id": "d8434e27",
   "metadata": {},
   "outputs": [
    {
     "data": {
      "image/png": "[encoded data removed]",
      "text/plain": [
       "<Figure size 432x288 with 1 Axes>"
      ]
     },
     "metadata": {
      "needs_background": "light"
     },
     "output_type": "display_data"
    },
    {
     "data": {
      "image/png": "[encoded data removed]",
      "text/plain": [
       "<Figure size 432x288 with 1 Axes>"
      ]
     },
     "metadata": {
      "needs_background": "light"
     },
     "output_type": "display_data"
    }
   ],
   "source": [
    "i = 610\n",
    "plt.imshow(X_train_gray[i].squeeze(), cmap='gray')\n",
    "plt.figure()\n",
    "plt.imshow(X_train[i])\n",
    "plt.show()"
   ]
  },
  {
   "cell_type": "code",
   "execution_count": 17,
   "id": "6038a875",
   "metadata": {},
   "outputs": [
    {
     "data": {
      "text/plain": [
       "(32, 32, 1)"
      ]
     },
     "execution_count": 17,
     "metadata": {},
     "output_type": "execute_result"
    }
   ],
   "source": [
    "image_shape = X_train_gray[i].shape\n",
    "image_shape"
   ]
  },
  {
   "cell_type": "markdown",
   "id": "cd35b675",
   "metadata": {},
   "source": [
    "## TRENIRANJE MODELA"
   ]
  },
  {
   "cell_type": "markdown",
   "id": "3b0eca6c",
   "metadata": {},
   "source": [
    "Nasa mreza imace sledecu arhitekturu."
   ]
  },
  {
   "cell_type": "code",
   "execution_count": 18,
   "id": "7fd0a417",
   "metadata": {},
   "outputs": [],
   "source": [
    "model = Sequential()\n",
    "model.add(Input(shape=image_shape))\n",
    "model.add(Conv2D(filters=32, kernel_size=(5,5), activation='relu'))\n",
    "model.add(Conv2D(filters=32, kernel_size=(5,5), activation='relu'))\n",
    "model.add(MaxPooling2D(pool_size=(2, 2)))\n",
    "model.add(Dropout(rate=0.25))\n",
    "model.add(Conv2D(filters=64, kernel_size=(3, 3), activation='relu'))\n",
    "model.add(Conv2D(filters=64, kernel_size=(3, 3), activation='relu'))\n",
    "model.add(MaxPooling2D(pool_size=(2, 2)))\n",
    "model.add(Dropout(rate=0.25))\n",
    "model.add(Flatten())\n",
    "model.add(Dense(256, activation='relu'))\n",
    "model.add(Dropout(rate=0.5))\n",
    "model.add(Dense(43, activation='softmax'))"
   ]
  },
  {
   "cell_type": "code",
   "execution_count": 19,
   "id": "edd4ad12",
   "metadata": {},
   "outputs": [
    {
     "name": "stdout",
     "output_type": "stream",
     "text": [
      "Model: \"sequential\"\n",
      "_________________________________________________________________\n",
      "Layer (type)                 Output Shape              Param #   \n",
      "=================================================================\n",
      "conv2d (Conv2D)              (None, 28, 28, 32)        832       \n",
      "_________________________________________________________________\n",
      "conv2d_1 (Conv2D)            (None, 24, 24, 32)        25632     \n",
      "_________________________________________________________________\n",
      "max_pooling2d (MaxPooling2D) (None, 12, 12, 32)        0         \n",
      "_________________________________________________________________\n",
      "dropout (Dropout)            (None, 12, 12, 32)        0         \n",
      "_________________________________________________________________\n",
      "conv2d_2 (Conv2D)            (None, 10, 10, 64)        18496     \n",
      "_________________________________________________________________\n",
      "conv2d_3 (Conv2D)            (None, 8, 8, 64)          36928     \n",
      "_________________________________________________________________\n",
      "max_pooling2d_1 (MaxPooling2 (None, 4, 4, 64)          0         \n",
      "_________________________________________________________________\n",
      "dropout_1 (Dropout)          (None, 4, 4, 64)          0         \n",
      "_________________________________________________________________\n",
      "flatten (Flatten)            (None, 1024)              0         \n",
      "_________________________________________________________________\n",
      "dense (Dense)                (None, 256)               262400    \n",
      "_________________________________________________________________\n",
      "dropout_2 (Dropout)          (None, 256)               0         \n",
      "_________________________________________________________________\n",
      "dense_1 (Dense)              (None, 43)                11051     \n",
      "=================================================================\n",
      "Total params: 355,339\n",
      "Trainable params: 355,339\n",
      "Non-trainable params: 0\n",
      "_________________________________________________________________\n"
     ]
    }
   ],
   "source": [
    "model.summary()"
   ]
  },
  {
   "cell_type": "markdown",
   "id": "f81891cc",
   "metadata": {},
   "source": [
    "Funkcija gubitka koju mreza minimizuje ce biti kategoricka unakrsna entropija. Za treniranje mreze cemo koristiti optimizator Adam sa podesenim korakom ucenja."
   ]
  },
  {
   "cell_type": "code",
   "execution_count": 20,
   "id": "f41625e9",
   "metadata": {},
   "outputs": [],
   "source": [
    "model.compile(loss=CategoricalCrossentropy(), optimizer=Adam(lr=0.001), metrics =['accuracy'])"
   ]
  },
  {
   "cell_type": "markdown",
   "id": "8cffc479",
   "metadata": {},
   "source": [
    "Mrezu cemo trenirati u 15 epoha koriscenjem paketica velicine 32 instanci."
   ]
  },
  {
   "cell_type": "code",
   "execution_count": 21,
   "id": "23b6b76b",
   "metadata": {},
   "outputs": [],
   "source": [
    "epochs = 15\n",
    "batch_size = 32"
   ]
  },
  {
   "cell_type": "code",
   "execution_count": 22,
   "id": "1691f57b",
   "metadata": {},
   "outputs": [
    {
     "name": "stdout",
     "output_type": "stream",
     "text": [
      "Epoch 1/15\n",
      "1088/1088 [==============================] - 1198s 1s/step - loss: 0.9193 - accuracy: 0.7457 - val_loss: 0.1811 - val_accuracy: 0.9469\n",
      "Epoch 2/15\n",
      "1088/1088 [==============================] - 1144s 1s/step - loss: 0.1715 - accuracy: 0.9484 - val_loss: 0.0860 - val_accuracy: 0.9744\n",
      "Epoch 3/15\n",
      "1088/1088 [==============================] - 1137s 1s/step - loss: 0.1208 - accuracy: 0.9628 - val_loss: 0.0678 - val_accuracy: 0.9830\n",
      "Epoch 4/15\n",
      "1088/1088 [==============================] - 1142s 1s/step - loss: 0.0881 - accuracy: 0.9736 - val_loss: 0.0748 - val_accuracy: 0.9814\n",
      "Epoch 5/15\n",
      "1088/1088 [==============================] - 1138s 1s/step - loss: 0.0800 - accuracy: 0.9757 - val_loss: 0.0800 - val_accuracy: 0.9798\n",
      "Epoch 6/15\n",
      "1088/1088 [==============================] - 1136s 1s/step - loss: 0.0758 - accuracy: 0.9778 - val_loss: 0.0796 - val_accuracy: 0.9823\n",
      "Epoch 7/15\n",
      "1088/1088 [==============================] - 1136s 1s/step - loss: 0.0670 - accuracy: 0.9799 - val_loss: 0.0603 - val_accuracy: 0.9850\n",
      "Epoch 8/15\n",
      "1088/1088 [==============================] - 1137s 1s/step - loss: 0.0664 - accuracy: 0.9805 - val_loss: 0.0564 - val_accuracy: 0.9878\n",
      "Epoch 9/15\n",
      "1088/1088 [==============================] - 1139s 1s/step - loss: 0.0525 - accuracy: 0.9845 - val_loss: 0.0559 - val_accuracy: 0.9896\n",
      "Epoch 10/15\n",
      "1088/1088 [==============================] - 1135s 1s/step - loss: 0.0634 - accuracy: 0.9820 - val_loss: 0.0591 - val_accuracy: 0.9889\n",
      "Epoch 11/15\n",
      "1088/1088 [==============================] - 1135s 1s/step - loss: 0.0493 - accuracy: 0.9857 - val_loss: 0.0626 - val_accuracy: 0.9878\n",
      "Epoch 12/15\n",
      "1088/1088 [==============================] - 1135s 1s/step - loss: 0.0495 - accuracy: 0.9856 - val_loss: 0.1065 - val_accuracy: 0.9812\n",
      "Epoch 13/15\n",
      "1088/1088 [==============================] - 1137s 1s/step - loss: 0.0468 - accuracy: 0.9860 - val_loss: 0.0627 - val_accuracy: 0.9896\n",
      "Epoch 14/15\n",
      "1088/1088 [==============================] - 1144s 1s/step - loss: 0.0494 - accuracy: 0.9862 - val_loss: 0.0624 - val_accuracy: 0.9864\n",
      "Epoch 15/15\n",
      "1088/1088 [==============================] - 1140s 1s/step - loss: 0.0444 - accuracy: 0.9874 - val_loss: 0.0518 - val_accuracy: 0.9896\n"
     ]
    }
   ],
   "source": [
    "history = model.fit(X_train_gray_norm, y_train, batch_size=batch_size, epochs=epochs, verbose=1, \n",
    "                    validation_data = (X_validation_gray_norm, y_validation))"
   ]
  },
  {
   "cell_type": "markdown",
   "id": "c58a42d0",
   "metadata": {},
   "source": [
    "## EVALUACIJA MODELA"
   ]
  },
  {
   "cell_type": "code",
   "execution_count": 23,
   "id": "1bef917e",
   "metadata": {},
   "outputs": [
    {
     "name": "stdout",
     "output_type": "stream",
     "text": [
      "Test Accuracy : 0.9718\n"
     ]
    }
   ],
   "source": [
    "score = model.evaluate(X_test_gray_norm, y_test,verbose=0)\n",
    "print('Test Accuracy : {:.4f}'.format(score[1]))"
   ]
  },
  {
   "cell_type": "markdown",
   "id": "ddbaf6e0",
   "metadata": {},
   "source": [
    "Mozemo i nacrtati grafike funkcije gubitka i tacnosti u toku treniranja."
   ]
  },
  {
   "cell_type": "code",
   "execution_count": 24,
   "id": "9889385f",
   "metadata": {},
   "outputs": [
    {
     "data": {
      "image/png": "[encoded data removed]",
      "text/plain": [
       "<Figure size 720x288 with 2 Axes>"
      ]
     },
     "metadata": {
      "needs_background": "light"
     },
     "output_type": "display_data"
    }
   ],
   "source": [
    "plt.figure(figsize=(10, 4))\n",
    "\n",
    "plt.subplot(1, 2, 1)\n",
    "plt.title('Loss')\n",
    "plt.plot(np.arange(0, epochs), history.history['loss'], label='train')\n",
    "plt.plot(np.arange(0, epochs), history.history['val_loss'], label='val')\n",
    "plt.legend(loc='best')\n",
    "\n",
    "plt.subplot(1, 2, 2)\n",
    "plt.title('Accuracy')\n",
    "plt.plot(np.arange(0, epochs), history.history['accuracy'], label='train')\n",
    "plt.plot(np.arange(0, epochs), history.history['val_accuracy'], label='val')\n",
    "plt.legend(loc='best')\n",
    "\n",
    "plt.show()"
   ]
  },
  {
   "cell_type": "markdown",
   "id": "d0d8e670",
   "metadata": {},
   "source": [
    "Funkcijom save cemo sacuvati nas model."
   ]
  },
  {
   "cell_type": "code",
   "execution_count": 25,
   "id": "62cc2dd9",
   "metadata": {},
   "outputs": [],
   "source": [
    "model_path = 'cnn_model.h5'\n",
    "model.save(model_path)"
   ]
  },
  {
   "cell_type": "markdown",
   "id": "b785c7c6",
   "metadata": {},
   "source": [
    "Mozemo jos testirati kako se nas model ponasa za novi znak."
   ]
  },
  {
   "cell_type": "code",
   "execution_count": 26,
   "id": "096ab404",
   "metadata": {},
   "outputs": [],
   "source": [
    "y_predicted = model.predict(X_test_gray_norm)\n",
    "y_predicted_classes = np.argmax(y_predicted, axis=1)\n",
    "\n",
    "y_test_classes = np.argmax(y_test, axis = 1) "
   ]
  },
  {
   "cell_type": "code",
   "execution_count": 27,
   "id": "0e422a40",
   "metadata": {},
   "outputs": [
    {
     "name": "stdout",
     "output_type": "stream",
     "text": [
      "[[ 60   0   0 ...   0   0   0]\n",
      " [  0 715   3 ...   1   0   0]\n",
      " [  0   1 748 ...   1   0   0]\n",
      " ...\n",
      " [  0   0   0 ...  81   0   0]\n",
      " [  0   0   0 ...   0  48   0]\n",
      " [  0   0   0 ...   0   1  89]]\n"
     ]
    }
   ],
   "source": [
    "cm = confusion_matrix(y_test_classes, y_predicted_classes)\n",
    "print(cm)"
   ]
  },
  {
   "cell_type": "code",
   "execution_count": 28,
   "id": "4bf3695b",
   "metadata": {},
   "outputs": [
    {
     "name": "stdout",
     "output_type": "stream",
     "text": [
      "              precision    recall  f1-score   support\n",
      "\n",
      "           0       1.00      1.00      1.00        60\n",
      "           1       0.93      0.99      0.96       720\n",
      "           2       0.96      1.00      0.98       750\n",
      "           3       1.00      0.96      0.98       450\n",
      "           4       0.99      0.98      0.98       660\n",
      "           5       0.97      0.94      0.95       630\n",
      "           6       1.00      0.88      0.94       150\n",
      "           7       0.98      0.98      0.98       450\n",
      "           8       0.98      0.99      0.98       450\n",
      "           9       0.97      1.00      0.99       480\n",
      "          10       1.00      1.00      1.00       660\n",
      "          11       0.97      0.97      0.97       420\n",
      "          12       1.00      0.98      0.99       690\n",
      "          13       0.99      1.00      0.99       720\n",
      "          14       1.00      0.98      0.99       270\n",
      "          15       1.00      1.00      1.00       210\n",
      "          16       0.99      0.99      0.99       150\n",
      "          17       0.99      0.99      0.99       360\n",
      "          18       0.99      0.91      0.95       390\n",
      "          19       0.83      0.88      0.85        60\n",
      "          20       0.90      0.99      0.94        90\n",
      "          21       0.91      0.81      0.86        90\n",
      "          22       0.99      0.86      0.92       120\n",
      "          23       0.95      0.99      0.97       150\n",
      "          24       0.99      0.98      0.98        90\n",
      "          25       0.94      0.99      0.97       480\n",
      "          26       0.90      0.83      0.86       180\n",
      "          27       0.89      0.55      0.68        60\n",
      "          28       0.95      0.98      0.97       150\n",
      "          29       0.98      1.00      0.99        90\n",
      "          30       0.92      0.88      0.90       150\n",
      "          31       0.99      0.98      0.99       270\n",
      "          32       0.88      1.00      0.94        60\n",
      "          33       0.95      1.00      0.97       210\n",
      "          34       0.92      0.99      0.96       120\n",
      "          35       0.99      0.98      0.99       390\n",
      "          36       0.99      0.99      0.99       120\n",
      "          37       0.97      1.00      0.98        60\n",
      "          38       0.98      0.99      0.99       690\n",
      "          39       0.91      0.98      0.94        90\n",
      "          40       0.88      0.90      0.89        90\n",
      "          41       0.98      0.80      0.88        60\n",
      "          42       1.00      0.99      0.99        90\n",
      "\n",
      "    accuracy                           0.97     12630\n",
      "   macro avg       0.96      0.95      0.95     12630\n",
      "weighted avg       0.97      0.97      0.97     12630\n",
      "\n"
     ]
    }
   ],
   "source": [
    "report = classification_report(y_test_classes, y_predicted_classes)\n",
    "print(report)"
   ]
  },
  {
   "cell_type": "markdown",
   "id": "20342ac5",
   "metadata": {},
   "source": [
    "Prikazacemo i vizuelno kako model radi."
   ]
  },
  {
   "cell_type": "code",
   "execution_count": 29,
   "id": "affd9ce9",
   "metadata": {},
   "outputs": [
    {
     "data": {
      "image/png": "[encoded data removed]",
      "text/plain": [
       "<Figure size 1080x1080 with 12 Axes>"
      ]
     },
     "metadata": {
      "needs_background": "light"
     },
     "output_type": "display_data"
    }
   ],
   "source": [
    "plt.figure(figsize=(15,15))\n",
    "for i in range(0,12):\n",
    "    plt.subplot(4,3,i+1)\n",
    "    plt.imshow(X_test_gray_norm[i].squeeze(), cmap='gray', interpolation='none')\n",
    "    plt.title(\"Predicted {0}, True {1}\".format(y_predicted_classes[i], y_test_classes[i]))\n",
    "    plt.axis('off')\n",
    "plt.show() "
   ]
  },
  {
   "cell_type": "markdown",
   "id": "0650ae3d",
   "metadata": {},
   "source": [
    "Vidimo da su sve izdvojene slike dobro klasifikovane.\n",
    "\n",
    "Sada cemo pronaci one slike kod kojih se stvarna obelezja i predikcije razlikuju."
   ]
  },
  {
   "cell_type": "code",
   "execution_count": 30,
   "id": "5c58937c",
   "metadata": {},
   "outputs": [],
   "source": [
    "predicted_labels = np.argmax(y_predicted, axis=1)\n",
    "true_labels = np.argmax(y_test, axis=1)\n",
    "error_indexes = np.where(predicted_labels != true_labels)[0]"
   ]
  },
  {
   "cell_type": "code",
   "execution_count": 31,
   "id": "bd9f85a5",
   "metadata": {},
   "outputs": [
    {
     "name": "stdout",
     "output_type": "stream",
     "text": [
      "Broj instanci koje je klasifikator pogrešno klasifikovao:  356\n"
     ]
    }
   ],
   "source": [
    "number_of_errors = len(error_indexes)\n",
    "print(\"Broj instanci koje je klasifikator pogrešno klasifikovao: \", number_of_errors)"
   ]
  },
  {
   "cell_type": "markdown",
   "id": "51fe7721",
   "metadata": {},
   "source": [
    "Prikazacemo neku slika sa pogresnom labelom."
   ]
  },
  {
   "cell_type": "code",
   "execution_count": 32,
   "id": "fa28ae06",
   "metadata": {},
   "outputs": [
    {
     "data": {
      "image/png": "[encoded data removed]",
      "text/plain": [
       "<Figure size 432x288 with 1 Axes>"
      ]
     },
     "metadata": {
      "needs_background": "light"
     },
     "output_type": "display_data"
    }
   ],
   "source": [
    "error_index = np.random.choice(error_indexes)\n",
    "true_label = true_labels[error_index]\n",
    "predicted_label = predicted_labels[error_index]\n",
    "\n",
    "plt.title(\"Predicted {0}, True {1}\".format(true_label, predicted_label))\n",
    "plt.imshow(X_test_gray_norm[error_index].squeeze(), cmap='gray', interpolation='none')\n",
    "plt.axis('off')\n",
    "plt.show()"
   ]
  }
 ],
 "metadata": {
  "kernelspec": {
   "display_name": "Python 3",
   "language": "python",
   "name": "python3"
  },
  "language_info": {
   "codemirror_mode": {
    "name": "ipython",
    "version": 3
   },
   "file_extension": ".py",
   "mimetype": "text/x-python",
   "name": "python",
   "nbconvert_exporter": "python",
   "pygments_lexer": "ipython3",
   "version": "3.8.8"
  }
 },
 "nbformat": 4,
 "nbformat_minor": 5
}
